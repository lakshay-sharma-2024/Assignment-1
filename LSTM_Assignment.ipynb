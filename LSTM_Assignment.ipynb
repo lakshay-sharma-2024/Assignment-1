{
  "cells": [
    {
      "cell_type": "markdown",
      "metadata": {
        "id": "view-in-github",
        "colab_type": "text"
      },
      "source": [
        "<a href=\"https://colab.research.google.com/github/lakshay-sharma-2024/Assignment-1/blob/main/LSTM_Assignment.ipynb\" target=\"_parent\"><img src=\"https://colab.research.google.com/assets/colab-badge.svg\" alt=\"Open In Colab\"/></a>"
      ]
    },
    {
      "cell_type": "code",
      "execution_count": null,
      "metadata": {
        "id": "XlMFK0yMQXNH"
      },
      "outputs": [],
      "source": [
        "import pandas as pd\n",
        "from sklearn.model_selection import train_test_split\n",
        "import numpy as np"
      ]
    },
    {
      "cell_type": "code",
      "execution_count": null,
      "metadata": {
        "id": "bru8YdBXHmky",
        "outputId": "236daf8c-8f50-444e-b044-5dd1e461b942"
      },
      "outputs": [
        {
          "name": "stdout",
          "output_type": "stream",
          "text": [
            "Requirement already satisfied: tensorflow in c:\\users\\laksh\\appdata\\local\\programs\\python\\python311\\lib\\site-packages (2.17.0)\n",
            "Requirement already satisfied: tensorflow-intel==2.17.0 in c:\\users\\laksh\\appdata\\local\\programs\\python\\python311\\lib\\site-packages (from tensorflow) (2.17.0)\n",
            "Requirement already satisfied: absl-py>=1.0.0 in c:\\users\\laksh\\appdata\\local\\programs\\python\\python311\\lib\\site-packages (from tensorflow-intel==2.17.0->tensorflow) (2.1.0)\n",
            "Requirement already satisfied: astunparse>=1.6.0 in c:\\users\\laksh\\appdata\\local\\programs\\python\\python311\\lib\\site-packages (from tensorflow-intel==2.17.0->tensorflow) (1.6.3)\n",
            "Requirement already satisfied: flatbuffers>=24.3.25 in c:\\users\\laksh\\appdata\\local\\programs\\python\\python311\\lib\\site-packages (from tensorflow-intel==2.17.0->tensorflow) (24.3.25)\n",
            "Requirement already satisfied: gast!=0.5.0,!=0.5.1,!=0.5.2,>=0.2.1 in c:\\users\\laksh\\appdata\\local\\programs\\python\\python311\\lib\\site-packages (from tensorflow-intel==2.17.0->tensorflow) (0.5.4)\n",
            "Requirement already satisfied: google-pasta>=0.1.1 in c:\\users\\laksh\\appdata\\local\\programs\\python\\python311\\lib\\site-packages (from tensorflow-intel==2.17.0->tensorflow) (0.2.0)\n",
            "Requirement already satisfied: h5py>=3.10.0 in c:\\users\\laksh\\appdata\\local\\programs\\python\\python311\\lib\\site-packages (from tensorflow-intel==2.17.0->tensorflow) (3.10.0)\n",
            "Requirement already satisfied: libclang>=13.0.0 in c:\\users\\laksh\\appdata\\local\\programs\\python\\python311\\lib\\site-packages (from tensorflow-intel==2.17.0->tensorflow) (16.0.6)\n",
            "Requirement already satisfied: ml-dtypes<0.5.0,>=0.3.1 in c:\\users\\laksh\\appdata\\local\\programs\\python\\python311\\lib\\site-packages (from tensorflow-intel==2.17.0->tensorflow) (0.3.2)\n",
            "Requirement already satisfied: opt-einsum>=2.3.2 in c:\\users\\laksh\\appdata\\local\\programs\\python\\python311\\lib\\site-packages (from tensorflow-intel==2.17.0->tensorflow) (3.3.0)\n",
            "Requirement already satisfied: packaging in c:\\users\\laksh\\appdata\\roaming\\python\\python311\\site-packages (from tensorflow-intel==2.17.0->tensorflow) (23.2)\n",
            "Requirement already satisfied: protobuf!=4.21.0,!=4.21.1,!=4.21.2,!=4.21.3,!=4.21.4,!=4.21.5,<5.0.0dev,>=3.20.3 in c:\\users\\laksh\\appdata\\local\\programs\\python\\python311\\lib\\site-packages (from tensorflow-intel==2.17.0->tensorflow) (4.25.3)\n",
            "Requirement already satisfied: requests<3,>=2.21.0 in c:\\users\\laksh\\appdata\\local\\programs\\python\\python311\\lib\\site-packages (from tensorflow-intel==2.17.0->tensorflow) (2.31.0)\n",
            "Requirement already satisfied: setuptools in c:\\users\\laksh\\appdata\\local\\programs\\python\\python311\\lib\\site-packages (from tensorflow-intel==2.17.0->tensorflow) (65.5.0)\n",
            "Requirement already satisfied: six>=1.12.0 in c:\\users\\laksh\\appdata\\roaming\\python\\python311\\site-packages (from tensorflow-intel==2.17.0->tensorflow) (1.16.0)\n",
            "Requirement already satisfied: termcolor>=1.1.0 in c:\\users\\laksh\\appdata\\local\\programs\\python\\python311\\lib\\site-packages (from tensorflow-intel==2.17.0->tensorflow) (2.4.0)\n",
            "Requirement already satisfied: typing-extensions>=3.6.6 in c:\\users\\laksh\\appdata\\local\\programs\\python\\python311\\lib\\site-packages (from tensorflow-intel==2.17.0->tensorflow) (4.10.0)\n",
            "Requirement already satisfied: wrapt>=1.11.0 in c:\\users\\laksh\\appdata\\local\\programs\\python\\python311\\lib\\site-packages (from tensorflow-intel==2.17.0->tensorflow) (1.14.1)\n",
            "Requirement already satisfied: grpcio<2.0,>=1.24.3 in c:\\users\\laksh\\appdata\\local\\programs\\python\\python311\\lib\\site-packages (from tensorflow-intel==2.17.0->tensorflow) (1.62.0)\n",
            "Requirement already satisfied: tensorboard<2.18,>=2.17 in c:\\users\\laksh\\appdata\\local\\programs\\python\\python311\\lib\\site-packages (from tensorflow-intel==2.17.0->tensorflow) (2.17.1)\n",
            "Requirement already satisfied: keras>=3.2.0 in c:\\users\\laksh\\appdata\\local\\programs\\python\\python311\\lib\\site-packages (from tensorflow-intel==2.17.0->tensorflow) (3.5.0)\n",
            "Requirement already satisfied: tensorflow-io-gcs-filesystem>=0.23.1 in c:\\users\\laksh\\appdata\\local\\programs\\python\\python311\\lib\\site-packages (from tensorflow-intel==2.17.0->tensorflow) (0.31.0)\n",
            "Requirement already satisfied: numpy<2.0.0,>=1.23.5 in c:\\users\\laksh\\appdata\\local\\programs\\python\\python311\\lib\\site-packages (from tensorflow-intel==2.17.0->tensorflow) (1.26.4)\n",
            "Requirement already satisfied: wheel<1.0,>=0.23.0 in c:\\users\\laksh\\appdata\\local\\programs\\python\\python311\\lib\\site-packages (from astunparse>=1.6.0->tensorflow-intel==2.17.0->tensorflow) (0.42.0)\n",
            "Requirement already satisfied: rich in c:\\users\\laksh\\appdata\\local\\programs\\python\\python311\\lib\\site-packages (from keras>=3.2.0->tensorflow-intel==2.17.0->tensorflow) (13.7.1)\n",
            "Requirement already satisfied: namex in c:\\users\\laksh\\appdata\\local\\programs\\python\\python311\\lib\\site-packages (from keras>=3.2.0->tensorflow-intel==2.17.0->tensorflow) (0.0.7)\n",
            "Requirement already satisfied: optree in c:\\users\\laksh\\appdata\\local\\programs\\python\\python311\\lib\\site-packages (from keras>=3.2.0->tensorflow-intel==2.17.0->tensorflow) (0.11.0)\n",
            "Requirement already satisfied: charset-normalizer<4,>=2 in c:\\users\\laksh\\appdata\\local\\programs\\python\\python311\\lib\\site-packages (from requests<3,>=2.21.0->tensorflow-intel==2.17.0->tensorflow) (3.3.2)\n",
            "Requirement already satisfied: idna<4,>=2.5 in c:\\users\\laksh\\appdata\\local\\programs\\python\\python311\\lib\\site-packages (from requests<3,>=2.21.0->tensorflow-intel==2.17.0->tensorflow) (3.6)\n",
            "Requirement already satisfied: urllib3<3,>=1.21.1 in c:\\users\\laksh\\appdata\\local\\programs\\python\\python311\\lib\\site-packages (from requests<3,>=2.21.0->tensorflow-intel==2.17.0->tensorflow) (2.2.1)\n",
            "Requirement already satisfied: certifi>=2017.4.17 in c:\\users\\laksh\\appdata\\local\\programs\\python\\python311\\lib\\site-packages (from requests<3,>=2.21.0->tensorflow-intel==2.17.0->tensorflow) (2024.2.2)\n",
            "Requirement already satisfied: markdown>=2.6.8 in c:\\users\\laksh\\appdata\\local\\programs\\python\\python311\\lib\\site-packages (from tensorboard<2.18,>=2.17->tensorflow-intel==2.17.0->tensorflow) (3.5.2)\n",
            "Requirement already satisfied: tensorboard-data-server<0.8.0,>=0.7.0 in c:\\users\\laksh\\appdata\\local\\programs\\python\\python311\\lib\\site-packages (from tensorboard<2.18,>=2.17->tensorflow-intel==2.17.0->tensorflow) (0.7.2)\n",
            "Requirement already satisfied: werkzeug>=1.0.1 in c:\\users\\laksh\\appdata\\local\\programs\\python\\python311\\lib\\site-packages (from tensorboard<2.18,>=2.17->tensorflow-intel==2.17.0->tensorflow) (3.0.1)\n",
            "Requirement already satisfied: MarkupSafe>=2.1.1 in c:\\users\\laksh\\appdata\\local\\programs\\python\\python311\\lib\\site-packages (from werkzeug>=1.0.1->tensorboard<2.18,>=2.17->tensorflow-intel==2.17.0->tensorflow) (2.1.5)\n",
            "Requirement already satisfied: markdown-it-py>=2.2.0 in c:\\users\\laksh\\appdata\\local\\programs\\python\\python311\\lib\\site-packages (from rich->keras>=3.2.0->tensorflow-intel==2.17.0->tensorflow) (3.0.0)\n",
            "Requirement already satisfied: pygments<3.0.0,>=2.13.0 in c:\\users\\laksh\\appdata\\roaming\\python\\python311\\site-packages (from rich->keras>=3.2.0->tensorflow-intel==2.17.0->tensorflow) (2.17.2)\n",
            "Requirement already satisfied: mdurl~=0.1 in c:\\users\\laksh\\appdata\\local\\programs\\python\\python311\\lib\\site-packages (from markdown-it-py>=2.2.0->rich->keras>=3.2.0->tensorflow-intel==2.17.0->tensorflow) (0.1.2)\n",
            "Note: you may need to restart the kernel to use updated packages.\n"
          ]
        }
      ],
      "source": [
        "pip install tensorflow"
      ]
    },
    {
      "cell_type": "code",
      "execution_count": null,
      "metadata": {
        "id": "lhi-G9VSQMso"
      },
      "outputs": [],
      "source": [
        "import tensorflow as tf\n",
        "from tensorflow.keras.preprocessing.text import Tokenizer\n",
        "from tensorflow.keras.preprocessing.sequence import pad_sequences\n",
        "from tensorflow.keras.preprocessing import sequence\n",
        "from tensorflow.keras.layers import Embedding, LSTM, Dense, Dropout\n",
        "from tensorflow.keras.optimizers import AdamW\n",
        "from tensorflow.keras.utils import to_categorical"
      ]
    },
    {
      "cell_type": "code",
      "execution_count": null,
      "metadata": {
        "colab": {
          "base_uri": "https://localhost:8080/",
          "height": 206
        },
        "id": "DzJ8DreWQauD",
        "outputId": "59563153-a417-40ba-f418-2599192bd5c5"
      },
      "outputs": [
        {
          "data": {
            "text/html": [
              "<div>\n",
              "<style scoped>\n",
              "    .dataframe tbody tr th:only-of-type {\n",
              "        vertical-align: middle;\n",
              "    }\n",
              "\n",
              "    .dataframe tbody tr th {\n",
              "        vertical-align: top;\n",
              "    }\n",
              "\n",
              "    .dataframe thead th {\n",
              "        text-align: right;\n",
              "    }\n",
              "</style>\n",
              "<table border=\"1\" class=\"dataframe\">\n",
              "  <thead>\n",
              "    <tr style=\"text-align: right;\">\n",
              "      <th></th>\n",
              "      <th>target</th>\n",
              "      <th>ids</th>\n",
              "      <th>date</th>\n",
              "      <th>flag</th>\n",
              "      <th>user</th>\n",
              "      <th>text</th>\n",
              "      <th>cleaned_text</th>\n",
              "    </tr>\n",
              "  </thead>\n",
              "  <tbody>\n",
              "    <tr>\n",
              "      <th>0</th>\n",
              "      <td>0</td>\n",
              "      <td>1467810369</td>\n",
              "      <td>Mon Apr 06 22:19:45 PDT 2009</td>\n",
              "      <td>NO_QUERY</td>\n",
              "      <td>_TheSpecialOne_</td>\n",
              "      <td>@switchfoot http://twitpic.com/2y1zl - Awww, t...</td>\n",
              "      <td>awww bummer shoulda get david carr third day</td>\n",
              "    </tr>\n",
              "    <tr>\n",
              "      <th>1</th>\n",
              "      <td>0</td>\n",
              "      <td>1467810672</td>\n",
              "      <td>Mon Apr 06 22:19:49 PDT 2009</td>\n",
              "      <td>NO_QUERY</td>\n",
              "      <td>scotthamilton</td>\n",
              "      <td>is upset that he can't update his Facebook by ...</td>\n",
              "      <td>upset update facebook texting might cry result...</td>\n",
              "    </tr>\n",
              "    <tr>\n",
              "      <th>2</th>\n",
              "      <td>0</td>\n",
              "      <td>1467810917</td>\n",
              "      <td>Mon Apr 06 22:19:53 PDT 2009</td>\n",
              "      <td>NO_QUERY</td>\n",
              "      <td>mattycus</td>\n",
              "      <td>@Kenichan I dived many times for the ball. Man...</td>\n",
              "      <td>dive many time ball manage save rest go bound</td>\n",
              "    </tr>\n",
              "    <tr>\n",
              "      <th>3</th>\n",
              "      <td>0</td>\n",
              "      <td>1467811184</td>\n",
              "      <td>Mon Apr 06 22:19:57 PDT 2009</td>\n",
              "      <td>NO_QUERY</td>\n",
              "      <td>ElleCTF</td>\n",
              "      <td>my whole body feels itchy and like its on fire</td>\n",
              "      <td>whole body feel itchy like fire</td>\n",
              "    </tr>\n",
              "    <tr>\n",
              "      <th>4</th>\n",
              "      <td>0</td>\n",
              "      <td>1467811193</td>\n",
              "      <td>Mon Apr 06 22:19:57 PDT 2009</td>\n",
              "      <td>NO_QUERY</td>\n",
              "      <td>Karoli</td>\n",
              "      <td>@nationwideclass no, it's not behaving at all....</td>\n",
              "      <td>behave mad see</td>\n",
              "    </tr>\n",
              "  </tbody>\n",
              "</table>\n",
              "</div>"
            ],
            "text/plain": [
              "   target         ids                          date      flag  \\\n",
              "0       0  1467810369  Mon Apr 06 22:19:45 PDT 2009  NO_QUERY   \n",
              "1       0  1467810672  Mon Apr 06 22:19:49 PDT 2009  NO_QUERY   \n",
              "2       0  1467810917  Mon Apr 06 22:19:53 PDT 2009  NO_QUERY   \n",
              "3       0  1467811184  Mon Apr 06 22:19:57 PDT 2009  NO_QUERY   \n",
              "4       0  1467811193  Mon Apr 06 22:19:57 PDT 2009  NO_QUERY   \n",
              "\n",
              "              user                                               text  \\\n",
              "0  _TheSpecialOne_  @switchfoot http://twitpic.com/2y1zl - Awww, t...   \n",
              "1    scotthamilton  is upset that he can't update his Facebook by ...   \n",
              "2         mattycus  @Kenichan I dived many times for the ball. Man...   \n",
              "3          ElleCTF    my whole body feels itchy and like its on fire    \n",
              "4           Karoli  @nationwideclass no, it's not behaving at all....   \n",
              "\n",
              "                                        cleaned_text  \n",
              "0       awww bummer shoulda get david carr third day  \n",
              "1  upset update facebook texting might cry result...  \n",
              "2      dive many time ball manage save rest go bound  \n",
              "3                    whole body feel itchy like fire  \n",
              "4                                     behave mad see  "
            ]
          },
          "execution_count": 5,
          "metadata": {},
          "output_type": "execute_result"
        }
      ],
      "source": [
        "df = pd.read_csv('cleaned_data.csv')\n",
        "df.head()"
      ]
    },
    {
      "cell_type": "code",
      "execution_count": null,
      "metadata": {
        "id": "J9wC9EIwQlmf"
      },
      "outputs": [],
      "source": [
        "df.dropna(inplace=True)"
      ]
    },
    {
      "cell_type": "code",
      "execution_count": null,
      "metadata": {
        "colab": {
          "base_uri": "https://localhost:8080/",
          "height": 304
        },
        "id": "CvbADO-XQmkr",
        "outputId": "04e0db95-4fbe-4bbc-afc8-209a8bacdc37"
      },
      "outputs": [
        {
          "data": {
            "text/plain": [
              "target          0\n",
              "ids             0\n",
              "date            0\n",
              "flag            0\n",
              "user            0\n",
              "text            0\n",
              "cleaned_text    0\n",
              "dtype: int64"
            ]
          },
          "execution_count": 7,
          "metadata": {},
          "output_type": "execute_result"
        }
      ],
      "source": [
        "df.isna().sum()"
      ]
    },
    {
      "cell_type": "code",
      "execution_count": null,
      "metadata": {
        "id": "Zkp-M_sgQpkp"
      },
      "outputs": [],
      "source": [
        "X_train, X_test, y_train, y_test = train_test_split(\n",
        "    df.cleaned_text,\n",
        "    df.target,\n",
        "    stratify=df.target,\n",
        "    test_size=0.2,\n",
        "    random_state=2)\n",
        "\n",
        "X_train = np.array(X_train)\n",
        "X_test = np.array(X_test)\n",
        "y_train = np.array(y_train,dtype=np.float32)\n",
        "y_test = np.array(y_test,dtype=np.float32)"
      ]
    },
    {
      "cell_type": "code",
      "execution_count": null,
      "metadata": {
        "id": "4o3pxgtdRI01"
      },
      "outputs": [],
      "source": [
        "batch_size = 5\n",
        "max_len = len(df['cleaned_text'].max())\n",
        "embedding_dim = 5\n",
        "max_words = 10000\n",
        "lstm_units = 5"
      ]
    },
    {
      "cell_type": "code",
      "execution_count": null,
      "metadata": {
        "colab": {
          "base_uri": "https://localhost:8080/"
        },
        "id": "raZPOhFkX_VR",
        "outputId": "effb99ff-6171-4227-8157-9ca35b409e5b"
      },
      "outputs": [
        {
          "data": {
            "text/plain": [
              "57"
            ]
          },
          "execution_count": 10,
          "metadata": {},
          "output_type": "execute_result"
        }
      ],
      "source": [
        "max_len"
      ]
    },
    {
      "cell_type": "code",
      "execution_count": null,
      "metadata": {
        "colab": {
          "base_uri": "https://localhost:8080/",
          "height": 178
        },
        "id": "58HAl9UiYiCM",
        "outputId": "5313b541-1c98-4641-e8c8-b593e1791434"
      },
      "outputs": [
        {
          "data": {
            "text/plain": [
              "target\n",
              "0    795793\n",
              "4    795425\n",
              "Name: count, dtype: int64"
            ]
          },
          "execution_count": 11,
          "metadata": {},
          "output_type": "execute_result"
        }
      ],
      "source": [
        "df['target'].value_counts()"
      ]
    },
    {
      "cell_type": "code",
      "execution_count": null,
      "metadata": {
        "id": "pfEvs8IBUiyQ"
      },
      "outputs": [],
      "source": [
        "tokenizer = Tokenizer(num_words=max_words)\n",
        "\n",
        "tokenizer.fit_on_texts(X_train)\n",
        "\n",
        "X_train_seq = tokenizer.texts_to_sequences(X_train)\n",
        "X_test_seq = tokenizer.texts_to_sequences(X_test)\n",
        "\n",
        "X_train_padded = pad_sequences(X_train_seq, maxlen=max_len)\n",
        "X_test_padded = pad_sequences(X_test_seq, maxlen=max_len)\n",
        "\n",
        "y_train = np.array(y_train, dtype=np.float32)\n",
        "y_test = np.array(y_test, dtype=np.float32)"
      ]
    },
    {
      "cell_type": "code",
      "execution_count": null,
      "metadata": {
        "id": "blnuBXabWAEB"
      },
      "outputs": [],
      "source": [
        "chunk_size = len(X_train_padded) // 10\n",
        "\n",
        "X_train_chunks = np.array_split(X_train_padded, 10)\n",
        "y_train_chunks = np.array_split(y_train, 10)\n"
      ]
    },
    {
      "cell_type": "code",
      "execution_count": null,
      "metadata": {
        "id": "aghBZnCcUjaH"
      },
      "outputs": [],
      "source": [
        "def LSTM_Model(words,len,dim,units,num_labels):\n",
        "  model = tf.keras.Sequential()\n",
        "  model.add(Embedding(input_dim=words, output_dim=dim, input_length=len))\n",
        "  model.add(LSTM(units=units, dropout=0.3, recurrent_dropout=0.3))\n",
        "  model.add(Dense(num_labels, activation='softmax'))\n",
        "\n",
        "  model.compile(optimizer='adam',\n",
        "                loss='sparse_categorical_crossentropy',\n",
        "                metrics=['accuracy'])\n",
        "\n",
        "  return model"
      ]
    },
    {
      "cell_type": "code",
      "execution_count": null,
      "metadata": {
        "colab": {
          "base_uri": "https://localhost:8080/"
        },
        "id": "vayOjuKyUxQS",
        "outputId": "eccf70e1-0575-489c-a56b-39a5a1da8a86"
      },
      "outputs": [
        {
          "name": "stderr",
          "output_type": "stream",
          "text": [
            "c:\\Users\\laksh\\AppData\\Local\\Programs\\Python\\Python311\\Lib\\site-packages\\keras\\src\\layers\\core\\embedding.py:90: UserWarning: Argument `input_length` is deprecated. Just remove it.\n",
            "  warnings.warn(\n"
          ]
        },
        {
          "name": "stdout",
          "output_type": "stream",
          "text": [
            "Training on chunk 1/10\n",
            "Epoch 1/5\n",
            "\u001b[1m25460/25460\u001b[0m \u001b[32m━━━━━━━━━━━━━━━━━━━━\u001b[0m\u001b[37m\u001b[0m \u001b[1m312s\u001b[0m 12ms/step - accuracy: 0.6469 - loss: 0.6271 - val_accuracy: 0.7557 - val_loss: 0.5047\n",
            "Epoch 2/5\n",
            "\u001b[1m25460/25460\u001b[0m \u001b[32m━━━━━━━━━━━━━━━━━━━━\u001b[0m\u001b[37m\u001b[0m \u001b[1m340s\u001b[0m 13ms/step - accuracy: 0.7669 - loss: 0.4841 - val_accuracy: 0.7604 - val_loss: 0.4984\n",
            "Epoch 3/5\n",
            "\u001b[1m25460/25460\u001b[0m \u001b[32m━━━━━━━━━━━━━━━━━━━━\u001b[0m\u001b[37m\u001b[0m \u001b[1m335s\u001b[0m 13ms/step - accuracy: 0.7822 - loss: 0.4629 - val_accuracy: 0.7613 - val_loss: 0.4972\n",
            "Epoch 4/5\n",
            "\u001b[1m25460/25460\u001b[0m \u001b[32m━━━━━━━━━━━━━━━━━━━━\u001b[0m\u001b[37m\u001b[0m \u001b[1m291s\u001b[0m 11ms/step - accuracy: 0.7913 - loss: 0.4487 - val_accuracy: 0.7570 - val_loss: 0.4984\n",
            "Epoch 5/5\n",
            "\u001b[1m25460/25460\u001b[0m \u001b[32m━━━━━━━━━━━━━━━━━━━━\u001b[0m\u001b[37m\u001b[0m \u001b[1m379s\u001b[0m 15ms/step - accuracy: 0.7929 - loss: 0.4435 - val_accuracy: 0.7549 - val_loss: 0.5014\n",
            "Training on chunk 2/10\n",
            "Epoch 1/5\n",
            "\u001b[1m25460/25460\u001b[0m \u001b[32m━━━━━━━━━━━━━━━━━━━━\u001b[0m\u001b[37m\u001b[0m \u001b[1m409s\u001b[0m 16ms/step - accuracy: 0.7579 - loss: 0.4972 - val_accuracy: 0.7609 - val_loss: 0.4932\n",
            "Epoch 2/5\n",
            "\u001b[1m25460/25460\u001b[0m \u001b[32m━━━━━━━━━━━━━━━━━━━━\u001b[0m\u001b[37m\u001b[0m \u001b[1m331s\u001b[0m 13ms/step - accuracy: 0.7757 - loss: 0.4728 - val_accuracy: 0.7628 - val_loss: 0.4880\n",
            "Epoch 3/5\n",
            "\u001b[1m25460/25460\u001b[0m \u001b[32m━━━━━━━━━━━━━━━━━━━━\u001b[0m\u001b[37m\u001b[0m \u001b[1m368s\u001b[0m 14ms/step - accuracy: 0.7832 - loss: 0.4575 - val_accuracy: 0.7590 - val_loss: 0.4986\n",
            "Epoch 4/5\n",
            "\u001b[1m25460/25460\u001b[0m \u001b[32m━━━━━━━━━━━━━━━━━━━━\u001b[0m\u001b[37m\u001b[0m \u001b[1m360s\u001b[0m 14ms/step - accuracy: 0.7929 - loss: 0.4437 - val_accuracy: 0.7593 - val_loss: 0.4944\n",
            "Epoch 5/5\n",
            "\u001b[1m25460/25460\u001b[0m \u001b[32m━━━━━━━━━━━━━━━━━━━━\u001b[0m\u001b[37m\u001b[0m \u001b[1m347s\u001b[0m 14ms/step - accuracy: 0.7945 - loss: 0.4418 - val_accuracy: 0.7590 - val_loss: 0.4968\n",
            "Training on chunk 3/10\n",
            "Epoch 1/5\n",
            "\u001b[1m25460/25460\u001b[0m \u001b[32m━━━━━━━━━━━━━━━━━━━━\u001b[0m\u001b[37m\u001b[0m \u001b[1m449s\u001b[0m 18ms/step - accuracy: 0.7624 - loss: 0.4939 - val_accuracy: 0.7666 - val_loss: 0.4867\n",
            "Epoch 2/5\n",
            "\u001b[1m25460/25460\u001b[0m \u001b[32m━━━━━━━━━━━━━━━━━━━━\u001b[0m\u001b[37m\u001b[0m \u001b[1m367s\u001b[0m 14ms/step - accuracy: 0.7741 - loss: 0.4726 - val_accuracy: 0.7657 - val_loss: 0.4856\n",
            "Epoch 3/5\n",
            "\u001b[1m25460/25460\u001b[0m \u001b[32m━━━━━━━━━━━━━━━━━━━━\u001b[0m\u001b[37m\u001b[0m \u001b[1m362s\u001b[0m 14ms/step - accuracy: 0.7840 - loss: 0.4618 - val_accuracy: 0.7654 - val_loss: 0.4870\n",
            "Epoch 4/5\n",
            "\u001b[1m25460/25460\u001b[0m \u001b[32m━━━━━━━━━━━━━━━━━━━━\u001b[0m\u001b[37m\u001b[0m \u001b[1m424s\u001b[0m 17ms/step - accuracy: 0.7883 - loss: 0.4516 - val_accuracy: 0.7633 - val_loss: 0.4930\n",
            "Epoch 5/5\n",
            "\u001b[1m25460/25460\u001b[0m \u001b[32m━━━━━━━━━━━━━━━━━━━━\u001b[0m\u001b[37m\u001b[0m \u001b[1m320s\u001b[0m 13ms/step - accuracy: 0.7957 - loss: 0.4406 - val_accuracy: 0.7608 - val_loss: 0.4934\n",
            "Training on chunk 4/10\n",
            "Epoch 1/5\n",
            "\u001b[1m25460/25460\u001b[0m \u001b[32m━━━━━━━━━━━━━━━━━━━━\u001b[0m\u001b[37m\u001b[0m \u001b[1m335s\u001b[0m 13ms/step - accuracy: 0.7611 - loss: 0.4928 - val_accuracy: 0.7655 - val_loss: 0.4841\n",
            "Epoch 2/5\n",
            "\u001b[1m25460/25460\u001b[0m \u001b[32m━━━━━━━━━━━━━━━━━━━━\u001b[0m\u001b[37m\u001b[0m \u001b[1m413s\u001b[0m 16ms/step - accuracy: 0.7707 - loss: 0.4768 - val_accuracy: 0.7661 - val_loss: 0.4820\n",
            "Epoch 3/5\n",
            "\u001b[1m25460/25460\u001b[0m \u001b[32m━━━━━━━━━━━━━━━━━━━━\u001b[0m\u001b[37m\u001b[0m \u001b[1m441s\u001b[0m 17ms/step - accuracy: 0.7790 - loss: 0.4651 - val_accuracy: 0.7651 - val_loss: 0.4831\n",
            "Epoch 4/5\n",
            "\u001b[1m25460/25460\u001b[0m \u001b[32m━━━━━━━━━━━━━━━━━━━━\u001b[0m\u001b[37m\u001b[0m \u001b[1m460s\u001b[0m 18ms/step - accuracy: 0.7875 - loss: 0.4552 - val_accuracy: 0.7659 - val_loss: 0.4853\n",
            "Epoch 5/5\n",
            "\u001b[1m25460/25460\u001b[0m \u001b[32m━━━━━━━━━━━━━━━━━━━━\u001b[0m\u001b[37m\u001b[0m \u001b[1m471s\u001b[0m 19ms/step - accuracy: 0.7875 - loss: 0.4500 - val_accuracy: 0.7662 - val_loss: 0.4863\n",
            "Training on chunk 5/10\n",
            "Epoch 1/5\n",
            "\u001b[1m25460/25460\u001b[0m \u001b[32m━━━━━━━━━━━━━━━━━━━━\u001b[0m\u001b[37m\u001b[0m \u001b[1m419s\u001b[0m 16ms/step - accuracy: 0.7634 - loss: 0.4868 - val_accuracy: 0.7617 - val_loss: 0.4862\n",
            "Epoch 2/5\n",
            "\u001b[1m25460/25460\u001b[0m \u001b[32m━━━━━━━━━━━━━━━━━━━━\u001b[0m\u001b[37m\u001b[0m \u001b[1m245s\u001b[0m 10ms/step - accuracy: 0.7765 - loss: 0.4702 - val_accuracy: 0.7622 - val_loss: 0.4853\n",
            "Epoch 3/5\n",
            "\u001b[1m25460/25460\u001b[0m \u001b[32m━━━━━━━━━━━━━━━━━━━━\u001b[0m\u001b[37m\u001b[0m \u001b[1m206s\u001b[0m 8ms/step - accuracy: 0.7783 - loss: 0.4670 - val_accuracy: 0.7624 - val_loss: 0.4857\n",
            "Epoch 4/5\n",
            "\u001b[1m25460/25460\u001b[0m \u001b[32m━━━━━━━━━━━━━━━━━━━━\u001b[0m\u001b[37m\u001b[0m \u001b[1m208s\u001b[0m 8ms/step - accuracy: 0.7855 - loss: 0.4567 - val_accuracy: 0.7603 - val_loss: 0.4873\n",
            "Epoch 5/5\n",
            "\u001b[1m25460/25460\u001b[0m \u001b[32m━━━━━━━━━━━━━━━━━━━━\u001b[0m\u001b[37m\u001b[0m \u001b[1m206s\u001b[0m 8ms/step - accuracy: 0.7879 - loss: 0.4517 - val_accuracy: 0.7614 - val_loss: 0.4893\n",
            "Training on chunk 6/10\n",
            "Epoch 1/5\n",
            "\u001b[1m25460/25460\u001b[0m \u001b[32m━━━━━━━━━━━━━━━━━━━━\u001b[0m\u001b[37m\u001b[0m \u001b[1m206s\u001b[0m 8ms/step - accuracy: 0.7648 - loss: 0.4851 - val_accuracy: 0.7751 - val_loss: 0.4721\n",
            "Epoch 2/5\n",
            "\u001b[1m25460/25460\u001b[0m \u001b[32m━━━━━━━━━━━━━━━━━━━━\u001b[0m\u001b[37m\u001b[0m \u001b[1m206s\u001b[0m 8ms/step - accuracy: 0.7736 - loss: 0.4721 - val_accuracy: 0.7760 - val_loss: 0.4702\n",
            "Epoch 3/5\n",
            "\u001b[1m25460/25460\u001b[0m \u001b[32m━━━━━━━━━━━━━━━━━━━━\u001b[0m\u001b[37m\u001b[0m \u001b[1m206s\u001b[0m 8ms/step - accuracy: 0.7778 - loss: 0.4673 - val_accuracy: 0.7739 - val_loss: 0.4706\n",
            "Epoch 4/5\n",
            "\u001b[1m25460/25460\u001b[0m \u001b[32m━━━━━━━━━━━━━━━━━━━━\u001b[0m\u001b[37m\u001b[0m \u001b[1m205s\u001b[0m 8ms/step - accuracy: 0.7822 - loss: 0.4620 - val_accuracy: 0.7727 - val_loss: 0.4732\n",
            "Epoch 5/5\n",
            "\u001b[1m25460/25460\u001b[0m \u001b[32m━━━━━━━━━━━━━━━━━━━━\u001b[0m\u001b[37m\u001b[0m \u001b[1m207s\u001b[0m 8ms/step - accuracy: 0.7855 - loss: 0.4544 - val_accuracy: 0.7723 - val_loss: 0.4740\n",
            "Training on chunk 7/10\n",
            "Epoch 1/5\n",
            "\u001b[1m25460/25460\u001b[0m \u001b[32m━━━━━━━━━━━━━━━━━━━━\u001b[0m\u001b[37m\u001b[0m \u001b[1m209s\u001b[0m 8ms/step - accuracy: 0.7642 - loss: 0.4892 - val_accuracy: 0.7719 - val_loss: 0.4759\n",
            "Epoch 2/5\n",
            "\u001b[1m25460/25460\u001b[0m \u001b[32m━━━━━━━━━━━━━━━━━━━━\u001b[0m\u001b[37m\u001b[0m \u001b[1m215s\u001b[0m 8ms/step - accuracy: 0.7745 - loss: 0.4736 - val_accuracy: 0.7703 - val_loss: 0.4759\n",
            "Epoch 3/5\n",
            "\u001b[1m25460/25460\u001b[0m \u001b[32m━━━━━━━━━━━━━━━━━━━━\u001b[0m\u001b[37m\u001b[0m \u001b[1m207s\u001b[0m 8ms/step - accuracy: 0.7800 - loss: 0.4651 - val_accuracy: 0.7687 - val_loss: 0.4793\n",
            "Epoch 4/5\n",
            "\u001b[1m25460/25460\u001b[0m \u001b[32m━━━━━━━━━━━━━━━━━━━━\u001b[0m\u001b[37m\u001b[0m \u001b[1m206s\u001b[0m 8ms/step - accuracy: 0.7818 - loss: 0.4602 - val_accuracy: 0.7694 - val_loss: 0.4782\n",
            "Epoch 5/5\n",
            "\u001b[1m25460/25460\u001b[0m \u001b[32m━━━━━━━━━━━━━━━━━━━━\u001b[0m\u001b[37m\u001b[0m \u001b[1m205s\u001b[0m 8ms/step - accuracy: 0.7858 - loss: 0.4569 - val_accuracy: 0.7702 - val_loss: 0.4805\n",
            "Training on chunk 8/10\n",
            "Epoch 1/5\n",
            "\u001b[1m25460/25460\u001b[0m \u001b[32m━━━━━━━━━━━━━━━━━━━━\u001b[0m\u001b[37m\u001b[0m \u001b[1m205s\u001b[0m 8ms/step - accuracy: 0.7652 - loss: 0.4872 - val_accuracy: 0.7677 - val_loss: 0.4827\n",
            "Epoch 2/5\n",
            "\u001b[1m25460/25460\u001b[0m \u001b[32m━━━━━━━━━━━━━━━━━━━━\u001b[0m\u001b[37m\u001b[0m \u001b[1m206s\u001b[0m 8ms/step - accuracy: 0.7729 - loss: 0.4745 - val_accuracy: 0.7658 - val_loss: 0.4829\n",
            "Epoch 3/5\n",
            "\u001b[1m25460/25460\u001b[0m \u001b[32m━━━━━━━━━━━━━━━━━━━━\u001b[0m\u001b[37m\u001b[0m \u001b[1m207s\u001b[0m 8ms/step - accuracy: 0.7758 - loss: 0.4704 - val_accuracy: 0.7665 - val_loss: 0.4852\n",
            "Epoch 4/5\n",
            "\u001b[1m25460/25460\u001b[0m \u001b[32m━━━━━━━━━━━━━━━━━━━━\u001b[0m\u001b[37m\u001b[0m \u001b[1m242s\u001b[0m 10ms/step - accuracy: 0.7785 - loss: 0.4676 - val_accuracy: 0.7671 - val_loss: 0.4834\n",
            "Epoch 5/5\n",
            "\u001b[1m25460/25460\u001b[0m \u001b[32m━━━━━━━━━━━━━━━━━━━━\u001b[0m\u001b[37m\u001b[0m \u001b[1m337s\u001b[0m 13ms/step - accuracy: 0.7855 - loss: 0.4584 - val_accuracy: 0.7668 - val_loss: 0.4848\n",
            "Training on chunk 9/10\n",
            "Epoch 1/5\n",
            "\u001b[1m25460/25460\u001b[0m \u001b[32m━━━━━━━━━━━━━━━━━━━━\u001b[0m\u001b[37m\u001b[0m \u001b[1m359s\u001b[0m 14ms/step - accuracy: 0.7653 - loss: 0.4833 - val_accuracy: 0.7726 - val_loss: 0.4775\n",
            "Epoch 2/5\n",
            "\u001b[1m25460/25460\u001b[0m \u001b[32m━━━━━━━━━━━━━━━━━━━━\u001b[0m\u001b[37m\u001b[0m \u001b[1m361s\u001b[0m 14ms/step - accuracy: 0.7750 - loss: 0.4715 - val_accuracy: 0.7717 - val_loss: 0.4765\n",
            "Epoch 3/5\n",
            "\u001b[1m25460/25460\u001b[0m \u001b[32m━━━━━━━━━━━━━━━━━━━━\u001b[0m\u001b[37m\u001b[0m \u001b[1m324s\u001b[0m 13ms/step - accuracy: 0.7775 - loss: 0.4667 - val_accuracy: 0.7698 - val_loss: 0.4775\n",
            "Epoch 4/5\n",
            "\u001b[1m25460/25460\u001b[0m \u001b[32m━━━━━━━━━━━━━━━━━━━━\u001b[0m\u001b[37m\u001b[0m \u001b[1m310s\u001b[0m 12ms/step - accuracy: 0.7805 - loss: 0.4638 - val_accuracy: 0.7725 - val_loss: 0.4761\n",
            "Epoch 5/5\n",
            "\u001b[1m25460/25460\u001b[0m \u001b[32m━━━━━━━━━━━━━━━━━━━━\u001b[0m\u001b[37m\u001b[0m \u001b[1m302s\u001b[0m 12ms/step - accuracy: 0.7832 - loss: 0.4583 - val_accuracy: 0.7705 - val_loss: 0.4777\n",
            "Training on chunk 10/10\n",
            "Epoch 1/5\n",
            "\u001b[1m25460/25460\u001b[0m \u001b[32m━━━━━━━━━━━━━━━━━━━━\u001b[0m\u001b[37m\u001b[0m \u001b[1m306s\u001b[0m 12ms/step - accuracy: 0.7679 - loss: 0.4818 - val_accuracy: 0.7700 - val_loss: 0.4792\n",
            "Epoch 2/5\n",
            "\u001b[1m25460/25460\u001b[0m \u001b[32m━━━━━━━━━━━━━━━━━━━━\u001b[0m\u001b[37m\u001b[0m \u001b[1m284s\u001b[0m 11ms/step - accuracy: 0.7720 - loss: 0.4755 - val_accuracy: 0.7706 - val_loss: 0.4786\n",
            "Epoch 3/5\n",
            "\u001b[1m25460/25460\u001b[0m \u001b[32m━━━━━━━━━━━━━━━━━━━━\u001b[0m\u001b[37m\u001b[0m \u001b[1m219s\u001b[0m 9ms/step - accuracy: 0.7768 - loss: 0.4718 - val_accuracy: 0.7694 - val_loss: 0.4794\n",
            "Epoch 4/5\n",
            "\u001b[1m25460/25460\u001b[0m \u001b[32m━━━━━━━━━━━━━━━━━━━━\u001b[0m\u001b[37m\u001b[0m \u001b[1m174s\u001b[0m 7ms/step - accuracy: 0.7785 - loss: 0.4662 - val_accuracy: 0.7683 - val_loss: 0.4794\n",
            "Epoch 5/5\n",
            "\u001b[1m25460/25460\u001b[0m \u001b[32m━━━━━━━━━━━━━━━━━━━━\u001b[0m\u001b[37m\u001b[0m \u001b[1m174s\u001b[0m 7ms/step - accuracy: 0.7866 - loss: 0.4562 - val_accuracy: 0.7694 - val_loss: 0.4801\n"
          ]
        }
      ],
      "source": [
        "model = LSTM_Model(words=10000, len=max_len, dim=10, units=8, num_labels=5)\n",
        "\n",
        "for i, (X_chunk, y_chunk) in enumerate(zip(X_train_chunks, y_train_chunks)):\n",
        "    print(f\"Training on chunk {i+1}/{len(X_train_chunks)}\")\n",
        "\n",
        "    model.fit(X_chunk, y_chunk, epochs=5, batch_size=4, validation_split=0.2)\n",
        "\n"
      ]
    },
    {
      "cell_type": "code",
      "execution_count": null,
      "metadata": {
        "id": "knQIDzLLWLiX",
        "outputId": "3131bc56-a254-402d-c13d-f8522707fb43"
      },
      "outputs": [
        {
          "name": "stdout",
          "output_type": "stream",
          "text": [
            "\u001b[1m31825/31825\u001b[0m \u001b[32m━━━━━━━━━━━━━━━━━━━━\u001b[0m\u001b[37m\u001b[0m \u001b[1m73s\u001b[0m 2ms/step - accuracy: 0.7708 - loss: 0.4759\n",
            "Test Accuracy: 0.770628809928894\n"
          ]
        }
      ],
      "source": [
        "test_loss, test_accuracy = model.evaluate(X_test_padded, y_test, batch_size=10)\n",
        "print(f\"Test Accuracy: {test_accuracy}\")\n"
      ]
    },
    {
      "cell_type": "code",
      "execution_count": null,
      "metadata": {
        "id": "a3HNVR-0Hmk2",
        "outputId": "6b7a36c0-fad9-443e-9ed0-25c668d30c8a"
      },
      "outputs": [
        {
          "name": "stdout",
          "output_type": "stream",
          "text": [
            "Training on chunk 1/10\n",
            "Epoch 1/2\n",
            "\u001b[1m17822/17822\u001b[0m \u001b[32m━━━━━━━━━━━━━━━━━━━━\u001b[0m\u001b[37m\u001b[0m \u001b[1m162s\u001b[0m 9ms/step - accuracy: 0.6164 - loss: 0.6584 - val_accuracy: 0.7508 - val_loss: 0.5097\n",
            "Epoch 2/2\n",
            "\u001b[1m17822/17822\u001b[0m \u001b[32m━━━━━━━━━━━━━━━━━━━━\u001b[0m\u001b[37m\u001b[0m \u001b[1m173s\u001b[0m 10ms/step - accuracy: 0.7630 - loss: 0.4941 - val_accuracy: 0.7518 - val_loss: 0.5048\n",
            "Training on chunk 2/10\n",
            "Epoch 1/2\n",
            "\u001b[1m17822/17822\u001b[0m \u001b[32m━━━━━━━━━━━━━━━━━━━━\u001b[0m\u001b[37m\u001b[0m \u001b[1m176s\u001b[0m 10ms/step - accuracy: 0.7474 - loss: 0.5134 - val_accuracy: 0.7629 - val_loss: 0.4888\n",
            "Epoch 2/2\n",
            "\u001b[1m17822/17822\u001b[0m \u001b[32m━━━━━━━━━━━━━━━━━━━━\u001b[0m\u001b[37m\u001b[0m \u001b[1m156s\u001b[0m 9ms/step - accuracy: 0.7681 - loss: 0.4836 - val_accuracy: 0.7617 - val_loss: 0.4898\n",
            "Training on chunk 3/10\n",
            "Epoch 1/2\n",
            "\u001b[1m17822/17822\u001b[0m \u001b[32m━━━━━━━━━━━━━━━━━━━━\u001b[0m\u001b[37m\u001b[0m \u001b[1m151s\u001b[0m 8ms/step - accuracy: 0.7593 - loss: 0.4985 - val_accuracy: 0.7642 - val_loss: 0.4870\n",
            "Epoch 2/2\n",
            "\u001b[1m17822/17822\u001b[0m \u001b[32m━━━━━━━━━━━━━━━━━━━━\u001b[0m\u001b[37m\u001b[0m \u001b[1m169s\u001b[0m 9ms/step - accuracy: 0.7683 - loss: 0.4833 - val_accuracy: 0.7646 - val_loss: 0.4882\n",
            "Training on chunk 4/10\n",
            "Epoch 1/2\n",
            "\u001b[1m17822/17822\u001b[0m \u001b[32m━━━━━━━━━━━━━━━━━━━━\u001b[0m\u001b[37m\u001b[0m \u001b[1m155s\u001b[0m 9ms/step - accuracy: 0.7597 - loss: 0.4931 - val_accuracy: 0.7644 - val_loss: 0.4870\n",
            "Epoch 2/2\n",
            "\u001b[1m17822/17822\u001b[0m \u001b[32m━━━━━━━━━━━━━━━━━━━━\u001b[0m\u001b[37m\u001b[0m \u001b[1m163s\u001b[0m 9ms/step - accuracy: 0.7717 - loss: 0.4780 - val_accuracy: 0.7647 - val_loss: 0.4872\n",
            "Training on chunk 5/10\n",
            "Epoch 1/2\n",
            "\u001b[1m17822/17822\u001b[0m \u001b[32m━━━━━━━━━━━━━━━━━━━━\u001b[0m\u001b[37m\u001b[0m \u001b[1m158s\u001b[0m 9ms/step - accuracy: 0.7606 - loss: 0.4940 - val_accuracy: 0.7611 - val_loss: 0.4871\n",
            "Epoch 2/2\n",
            "\u001b[1m17822/17822\u001b[0m \u001b[32m━━━━━━━━━━━━━━━━━━━━\u001b[0m\u001b[37m\u001b[0m \u001b[1m165s\u001b[0m 9ms/step - accuracy: 0.7683 - loss: 0.4799 - val_accuracy: 0.7607 - val_loss: 0.4871\n",
            "Training on chunk 6/10\n",
            "Epoch 1/2\n",
            "\u001b[1m17822/17822\u001b[0m \u001b[32m━━━━━━━━━━━━━━━━━━━━\u001b[0m\u001b[37m\u001b[0m \u001b[1m173s\u001b[0m 10ms/step - accuracy: 0.7597 - loss: 0.4913 - val_accuracy: 0.7697 - val_loss: 0.4798\n",
            "Epoch 2/2\n",
            "\u001b[1m17822/17822\u001b[0m \u001b[32m━━━━━━━━━━━━━━━━━━━━\u001b[0m\u001b[37m\u001b[0m \u001b[1m168s\u001b[0m 9ms/step - accuracy: 0.7666 - loss: 0.4813 - val_accuracy: 0.7707 - val_loss: 0.4778\n",
            "Training on chunk 7/10\n",
            "Epoch 1/2\n",
            "\u001b[1m17822/17822\u001b[0m \u001b[32m━━━━━━━━━━━━━━━━━━━━\u001b[0m\u001b[37m\u001b[0m \u001b[1m166s\u001b[0m 9ms/step - accuracy: 0.7641 - loss: 0.4883 - val_accuracy: 0.7690 - val_loss: 0.4801\n",
            "Epoch 2/2\n",
            "\u001b[1m17822/17822\u001b[0m \u001b[32m━━━━━━━━━━━━━━━━━━━━\u001b[0m\u001b[37m\u001b[0m \u001b[1m165s\u001b[0m 9ms/step - accuracy: 0.7700 - loss: 0.4814 - val_accuracy: 0.7691 - val_loss: 0.4808\n",
            "Training on chunk 8/10\n",
            "Epoch 1/2\n",
            "\u001b[1m17822/17822\u001b[0m \u001b[32m━━━━━━━━━━━━━━━━━━━━\u001b[0m\u001b[37m\u001b[0m \u001b[1m159s\u001b[0m 9ms/step - accuracy: 0.7649 - loss: 0.4881 - val_accuracy: 0.7639 - val_loss: 0.4865\n",
            "Epoch 2/2\n",
            "\u001b[1m17822/17822\u001b[0m \u001b[32m━━━━━━━━━━━━━━━━━━━━\u001b[0m\u001b[37m\u001b[0m \u001b[1m153s\u001b[0m 9ms/step - accuracy: 0.7736 - loss: 0.4788 - val_accuracy: 0.7653 - val_loss: 0.4857\n",
            "Training on chunk 9/10\n",
            "Epoch 1/2\n",
            "\u001b[1m17822/17822\u001b[0m \u001b[32m━━━━━━━━━━━━━━━━━━━━\u001b[0m\u001b[37m\u001b[0m \u001b[1m164s\u001b[0m 9ms/step - accuracy: 0.7637 - loss: 0.4893 - val_accuracy: 0.7697 - val_loss: 0.4795\n",
            "Epoch 2/2\n",
            "\u001b[1m17822/17822\u001b[0m \u001b[32m━━━━━━━━━━━━━━━━━━━━\u001b[0m\u001b[37m\u001b[0m \u001b[1m154s\u001b[0m 9ms/step - accuracy: 0.7734 - loss: 0.4752 - val_accuracy: 0.7698 - val_loss: 0.4806\n",
            "Training on chunk 10/10\n",
            "Epoch 1/2\n",
            "\u001b[1m17822/17822\u001b[0m \u001b[32m━━━━━━━━━━━━━━━━━━━━\u001b[0m\u001b[37m\u001b[0m \u001b[1m142s\u001b[0m 8ms/step - accuracy: 0.7653 - loss: 0.4871 - val_accuracy: 0.7692 - val_loss: 0.4815\n",
            "Epoch 2/2\n",
            "\u001b[1m17822/17822\u001b[0m \u001b[32m━━━━━━━━━━━━━━━━━━━━\u001b[0m\u001b[37m\u001b[0m \u001b[1m168s\u001b[0m 9ms/step - accuracy: 0.7722 - loss: 0.4764 - val_accuracy: 0.7677 - val_loss: 0.4804\n"
          ]
        }
      ],
      "source": [
        "model = LSTM_Model(words=10000, len=max_len, dim=5, units=10, num_labels=5)\n",
        "\n",
        "for i, (X_chunk, y_chunk) in enumerate(zip(X_train_chunks, y_train_chunks)):\n",
        "    print(f\"Training on chunk {i+1}/{len(X_train_chunks)}\")\n",
        "\n",
        "    model.fit(X_chunk, y_chunk, epochs=2, batch_size=5, validation_split=0.3)\n",
        "\n"
      ]
    },
    {
      "cell_type": "code",
      "execution_count": null,
      "metadata": {
        "id": "lf8ss6L_Hmk2",
        "outputId": "5b881c09-3e56-46dd-cbfc-c6128de27fc6"
      },
      "outputs": [
        {
          "name": "stdout",
          "output_type": "stream",
          "text": [
            "\u001b[1m31825/31825\u001b[0m \u001b[32m━━━━━━━━━━━━━━━━━━━━\u001b[0m\u001b[37m\u001b[0m \u001b[1m56s\u001b[0m 2ms/step - accuracy: 0.7696 - loss: 0.4772\n",
            "Test Accuracy: 0.7696012854576111\n"
          ]
        }
      ],
      "source": [
        "test_loss, test_accuracy = model.evaluate(X_test_padded, y_test, batch_size=10)\n",
        "print(f\"Test Accuracy: {test_accuracy}\")\n"
      ]
    },
    {
      "cell_type": "code",
      "execution_count": null,
      "metadata": {
        "id": "wqmRKj2pHmk2"
      },
      "outputs": [],
      "source": [
        "def LSTM_Model_sig(words,len,dim,units,num_labels):\n",
        "  model = tf.keras.Sequential()\n",
        "  model.add(Embedding(input_dim=words, output_dim=dim, input_length=len))\n",
        "  model.add(LSTM(units=units, dropout=0.2, recurrent_dropout=0.2))\n",
        "  model.add(Dense(num_labels, activation='sigmoid'))\n",
        "\n",
        "  model.compile(optimizer='adam',\n",
        "                loss='sparse_categorical_crossentropy',\n",
        "                metrics=['accuracy'])\n",
        "\n",
        "  return model"
      ]
    },
    {
      "cell_type": "code",
      "execution_count": null,
      "metadata": {
        "id": "EHsY1ZXSHmk2",
        "outputId": "a1d296dd-9435-404b-c42b-3ee626634e82"
      },
      "outputs": [
        {
          "name": "stdout",
          "output_type": "stream",
          "text": [
            "Training on chunk 1/10\n",
            "Epoch 1/2\n"
          ]
        },
        {
          "name": "stderr",
          "output_type": "stream",
          "text": [
            "/home/lakshay/miniconda3/envs/rapids-env/lib/python3.11/site-packages/keras/src/layers/core/embedding.py:90: UserWarning: Argument `input_length` is deprecated. Just remove it.\n",
            "  warnings.warn(\n"
          ]
        },
        {
          "name": "stdout",
          "output_type": "stream",
          "text": [
            "\u001b[1m8911/8911\u001b[0m \u001b[32m━━━━━━━━━━━━━━━━━━━━\u001b[0m\u001b[37m\u001b[0m \u001b[1m78s\u001b[0m 9ms/step - accuracy: 0.6086 - loss: 0.7258 - val_accuracy: 0.7477 - val_loss: 0.5091\n",
            "Epoch 2/2\n",
            "\u001b[1m8911/8911\u001b[0m \u001b[32m━━━━━━━━━━━━━━━━━━━━\u001b[0m\u001b[37m\u001b[0m \u001b[1m78s\u001b[0m 9ms/step - accuracy: 0.7667 - loss: 0.4840 - val_accuracy: 0.7516 - val_loss: 0.5063\n",
            "Training on chunk 2/10\n",
            "Epoch 1/2\n",
            "\u001b[1m8911/8911\u001b[0m \u001b[32m━━━━━━━━━━━━━━━━━━━━\u001b[0m\u001b[37m\u001b[0m \u001b[1m75s\u001b[0m 8ms/step - accuracy: 0.7574 - loss: 0.4977 - val_accuracy: 0.7620 - val_loss: 0.4897\n",
            "Epoch 2/2\n",
            "\u001b[1m8911/8911\u001b[0m \u001b[32m━━━━━━━━━━━━━━━━━━━━\u001b[0m\u001b[37m\u001b[0m \u001b[1m77s\u001b[0m 9ms/step - accuracy: 0.7753 - loss: 0.4694 - val_accuracy: 0.7620 - val_loss: 0.4885\n",
            "Training on chunk 3/10\n",
            "Epoch 1/2\n",
            "\u001b[1m8911/8911\u001b[0m \u001b[32m━━━━━━━━━━━━━━━━━━━━\u001b[0m\u001b[37m\u001b[0m \u001b[1m89s\u001b[0m 10ms/step - accuracy: 0.7606 - loss: 0.4933 - val_accuracy: 0.7666 - val_loss: 0.4849\n",
            "Epoch 2/2\n",
            "\u001b[1m8911/8911\u001b[0m \u001b[32m━━━━━━━━━━━━━━━━━━━━\u001b[0m\u001b[37m\u001b[0m \u001b[1m84s\u001b[0m 9ms/step - accuracy: 0.7794 - loss: 0.4648 - val_accuracy: 0.7636 - val_loss: 0.4906\n",
            "Training on chunk 4/10\n",
            "Epoch 1/2\n",
            "\u001b[1m8911/8911\u001b[0m \u001b[32m━━━━━━━━━━━━━━━━━━━━\u001b[0m\u001b[37m\u001b[0m \u001b[1m89s\u001b[0m 10ms/step - accuracy: 0.7600 - loss: 0.4888 - val_accuracy: 0.7660 - val_loss: 0.4826\n",
            "Epoch 2/2\n",
            "\u001b[1m8911/8911\u001b[0m \u001b[32m━━━━━━━━━━━━━━━━━━━━\u001b[0m\u001b[37m\u001b[0m \u001b[1m78s\u001b[0m 9ms/step - accuracy: 0.7776 - loss: 0.4648 - val_accuracy: 0.7651 - val_loss: 0.4853\n",
            "Training on chunk 5/10\n",
            "Epoch 1/2\n",
            "\u001b[1m8911/8911\u001b[0m \u001b[32m━━━━━━━━━━━━━━━━━━━━\u001b[0m\u001b[37m\u001b[0m \u001b[1m75s\u001b[0m 8ms/step - accuracy: 0.7655 - loss: 0.4851 - val_accuracy: 0.7627 - val_loss: 0.4827\n",
            "Epoch 2/2\n",
            "\u001b[1m8911/8911\u001b[0m \u001b[32m━━━━━━━━━━━━━━━━━━━━\u001b[0m\u001b[37m\u001b[0m \u001b[1m79s\u001b[0m 9ms/step - accuracy: 0.7801 - loss: 0.4647 - val_accuracy: 0.7613 - val_loss: 0.4860\n",
            "Training on chunk 6/10\n",
            "Epoch 1/2\n",
            "\u001b[1m8911/8911\u001b[0m \u001b[32m━━━━━━━━━━━━━━━━━━━━\u001b[0m\u001b[37m\u001b[0m \u001b[1m78s\u001b[0m 9ms/step - accuracy: 0.7669 - loss: 0.4805 - val_accuracy: 0.7718 - val_loss: 0.4748\n",
            "Epoch 2/2\n",
            "\u001b[1m8911/8911\u001b[0m \u001b[32m━━━━━━━━━━━━━━━━━━━━\u001b[0m\u001b[37m\u001b[0m \u001b[1m77s\u001b[0m 9ms/step - accuracy: 0.7775 - loss: 0.4630 - val_accuracy: 0.7696 - val_loss: 0.4770\n",
            "Training on chunk 7/10\n",
            "Epoch 1/2\n",
            "\u001b[1m8911/8911\u001b[0m \u001b[32m━━━━━━━━━━━━━━━━━━━━\u001b[0m\u001b[37m\u001b[0m \u001b[1m79s\u001b[0m 9ms/step - accuracy: 0.7668 - loss: 0.4841 - val_accuracy: 0.7709 - val_loss: 0.4746\n",
            "Epoch 2/2\n",
            "\u001b[1m8911/8911\u001b[0m \u001b[32m━━━━━━━━━━━━━━━━━━━━\u001b[0m\u001b[37m\u001b[0m \u001b[1m78s\u001b[0m 9ms/step - accuracy: 0.7805 - loss: 0.4630 - val_accuracy: 0.7694 - val_loss: 0.4752\n",
            "Training on chunk 8/10\n",
            "Epoch 1/2\n",
            "\u001b[1m8911/8911\u001b[0m \u001b[32m━━━━━━━━━━━━━━━━━━━━\u001b[0m\u001b[37m\u001b[0m \u001b[1m82s\u001b[0m 9ms/step - accuracy: 0.7718 - loss: 0.4792 - val_accuracy: 0.7692 - val_loss: 0.4791\n",
            "Epoch 2/2\n",
            "\u001b[1m8911/8911\u001b[0m \u001b[32m━━━━━━━━━━━━━━━━━━━━\u001b[0m\u001b[37m\u001b[0m \u001b[1m78s\u001b[0m 9ms/step - accuracy: 0.7801 - loss: 0.4656 - val_accuracy: 0.7688 - val_loss: 0.4805\n",
            "Training on chunk 9/10\n",
            "Epoch 1/2\n",
            "\u001b[1m8911/8911\u001b[0m \u001b[32m━━━━━━━━━━━━━━━━━━━━\u001b[0m\u001b[37m\u001b[0m \u001b[1m78s\u001b[0m 9ms/step - accuracy: 0.7715 - loss: 0.4785 - val_accuracy: 0.7733 - val_loss: 0.4744\n",
            "Epoch 2/2\n",
            "\u001b[1m8911/8911\u001b[0m \u001b[32m━━━━━━━━━━━━━━━━━━━━\u001b[0m\u001b[37m\u001b[0m \u001b[1m77s\u001b[0m 9ms/step - accuracy: 0.7797 - loss: 0.4617 - val_accuracy: 0.7732 - val_loss: 0.4752\n",
            "Training on chunk 10/10\n",
            "Epoch 1/2\n",
            "\u001b[1m8911/8911\u001b[0m \u001b[32m━━━━━━━━━━━━━━━━━━━━\u001b[0m\u001b[37m\u001b[0m \u001b[1m77s\u001b[0m 9ms/step - accuracy: 0.7663 - loss: 0.4825 - val_accuracy: 0.7725 - val_loss: 0.4746\n",
            "Epoch 2/2\n",
            "\u001b[1m8911/8911\u001b[0m \u001b[32m━━━━━━━━━━━━━━━━━━━━\u001b[0m\u001b[37m\u001b[0m \u001b[1m80s\u001b[0m 9ms/step - accuracy: 0.7750 - loss: 0.4672 - val_accuracy: 0.7703 - val_loss: 0.4762\n"
          ]
        }
      ],
      "source": [
        "model = LSTM_Model_sig(words=10000, len=max_len, dim=10, units=10, num_labels=10)\n",
        "\n",
        "for i, (X_chunk, y_chunk) in enumerate(zip(X_train_chunks, y_train_chunks)):\n",
        "    print(f\"Training on chunk {i+1}/{len(X_train_chunks)}\")\n",
        "\n",
        "    model.fit(X_chunk, y_chunk, epochs=2, batch_size=10, validation_split=0.3)\n",
        "\n"
      ]
    },
    {
      "cell_type": "code",
      "execution_count": null,
      "metadata": {
        "id": "F8dorPfWHmk2",
        "outputId": "fdad2d45-375b-46ba-820f-fef784f9968f"
      },
      "outputs": [
        {
          "name": "stdout",
          "output_type": "stream",
          "text": [
            "\u001b[1m31825/31825\u001b[0m \u001b[32m━━━━━━━━━━━━━━━━━━━━\u001b[0m\u001b[37m\u001b[0m \u001b[1m53s\u001b[0m 2ms/step - accuracy: 0.7722 - loss: 0.4718\n",
            "Test Accuracy: 0.7717160582542419\n"
          ]
        }
      ],
      "source": [
        "test_loss, test_accuracy = model.evaluate(X_test_padded, y_test, batch_size=10)\n",
        "print(f\"Test Accuracy: {test_accuracy}\")\n"
      ]
    },
    {
      "cell_type": "code",
      "execution_count": null,
      "metadata": {
        "id": "HWzFPSijHmk2",
        "outputId": "5ab60c0b-da04-4a1b-fb60-8e4cc5e918d3"
      },
      "outputs": [
        {
          "name": "stdout",
          "output_type": "stream",
          "text": [
            "Num GPUs Available:  0\n"
          ]
        }
      ],
      "source": [
        "import tensorflow as tf\n",
        "print(\"Num GPUs Available: \", len(tf.config.experimental.list_physical_devices('GPU')))\n"
      ]
    },
    {
      "cell_type": "code",
      "source": [
        "!jupyter nbconvert --to PDF \"drive/My drive/Colab Notebooks/LSTM.ipynb"
      ],
      "metadata": {
        "colab": {
          "base_uri": "https://localhost:8080/"
        },
        "id": "XB4q507gIJth",
        "outputId": "7813e09f-3923-468f-da80-0206fec5e67d"
      },
      "execution_count": 1,
      "outputs": [
        {
          "output_type": "stream",
          "name": "stdout",
          "text": [
            "/bin/bash: -c: line 1: unexpected EOF while looking for matching `\"'\n",
            "/bin/bash: -c: line 2: syntax error: unexpected end of file\n"
          ]
        }
      ]
    }
  ],
  "metadata": {
    "colab": {
      "provenance": [],
      "include_colab_link": true
    },
    "kernelspec": {
      "display_name": "Python 3",
      "name": "python3"
    },
    "language_info": {
      "codemirror_mode": {
        "name": "ipython",
        "version": 3
      },
      "file_extension": ".py",
      "mimetype": "text/x-python",
      "name": "python",
      "nbconvert_exporter": "python",
      "pygments_lexer": "ipython3",
      "version": "3.11.4"
    }
  },
  "nbformat": 4,
  "nbformat_minor": 0
}